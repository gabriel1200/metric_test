{
 "cells": [
  {
   "cell_type": "code",
   "execution_count": 1,
   "id": "798a0a82-b99b-4dea-b162-72acfd9c8a21",
   "metadata": {
    "editable": true,
    "slideshow": {
     "slide_type": ""
    },
    "tags": []
   },
   "outputs": [],
   "source": [
    "import pandas as pd\n",
    "\n",
    "df=pd.read_csv('index_master.csv')\n",
    "\n",
    "df=df[['team','team_id','year']]\n",
    "df.drop_duplicates(inplace=True)\n",
    "df.to_csv('team_index.csv',index=False)"
   ]
  },
  {
   "cell_type": "code",
   "execution_count": 2,
   "id": "be91087a-666e-40de-82e0-fc0f90a3c30d",
   "metadata": {},
   "outputs": [
    {
     "data": {
      "text/html": [
       "<div>\n",
       "<style scoped>\n",
       "    .dataframe tbody tr th:only-of-type {\n",
       "        vertical-align: middle;\n",
       "    }\n",
       "\n",
       "    .dataframe tbody tr th {\n",
       "        vertical-align: top;\n",
       "    }\n",
       "\n",
       "    .dataframe thead th {\n",
       "        text-align: right;\n",
       "    }\n",
       "</style>\n",
       "<table border=\"1\" class=\"dataframe\">\n",
       "  <thead>\n",
       "    <tr style=\"text-align: right;\">\n",
       "      <th></th>\n",
       "      <th>team</th>\n",
       "      <th>team_id</th>\n",
       "      <th>year</th>\n",
       "    </tr>\n",
       "  </thead>\n",
       "  <tbody>\n",
       "    <tr>\n",
       "      <th>0</th>\n",
       "      <td>PHI</td>\n",
       "      <td>1610612755</td>\n",
       "      <td>1957</td>\n",
       "    </tr>\n",
       "    <tr>\n",
       "      <th>1</th>\n",
       "      <td>GSW</td>\n",
       "      <td>1610612744</td>\n",
       "      <td>1957</td>\n",
       "    </tr>\n",
       "    <tr>\n",
       "      <th>3</th>\n",
       "      <td>NYK</td>\n",
       "      <td>1610612752</td>\n",
       "      <td>1957</td>\n",
       "    </tr>\n",
       "    <tr>\n",
       "      <th>4</th>\n",
       "      <td>ATL</td>\n",
       "      <td>1610612737</td>\n",
       "      <td>1957</td>\n",
       "    </tr>\n",
       "    <tr>\n",
       "      <th>10</th>\n",
       "      <td>SAC</td>\n",
       "      <td>1610612758</td>\n",
       "      <td>1957</td>\n",
       "    </tr>\n",
       "    <tr>\n",
       "      <th>...</th>\n",
       "      <td>...</td>\n",
       "      <td>...</td>\n",
       "      <td>...</td>\n",
       "    </tr>\n",
       "    <tr>\n",
       "      <th>27842</th>\n",
       "      <td>HOU</td>\n",
       "      <td>1610612745</td>\n",
       "      <td>2024</td>\n",
       "    </tr>\n",
       "    <tr>\n",
       "      <th>27844</th>\n",
       "      <td>IND</td>\n",
       "      <td>1610612754</td>\n",
       "      <td>2024</td>\n",
       "    </tr>\n",
       "    <tr>\n",
       "      <th>27847</th>\n",
       "      <td>DAL</td>\n",
       "      <td>1610612742</td>\n",
       "      <td>2024</td>\n",
       "    </tr>\n",
       "    <tr>\n",
       "      <th>27872</th>\n",
       "      <td>LAL</td>\n",
       "      <td>1610612747</td>\n",
       "      <td>2024</td>\n",
       "    </tr>\n",
       "    <tr>\n",
       "      <th>27899</th>\n",
       "      <td>GSW</td>\n",
       "      <td>1610612744</td>\n",
       "      <td>2024</td>\n",
       "    </tr>\n",
       "  </tbody>\n",
       "</table>\n",
       "<p>1627 rows × 3 columns</p>\n",
       "</div>"
      ],
      "text/plain": [
       "      team     team_id  year\n",
       "0      PHI  1610612755  1957\n",
       "1      GSW  1610612744  1957\n",
       "3      NYK  1610612752  1957\n",
       "4      ATL  1610612737  1957\n",
       "10     SAC  1610612758  1957\n",
       "...    ...         ...   ...\n",
       "27842  HOU  1610612745  2024\n",
       "27844  IND  1610612754  2024\n",
       "27847  DAL  1610612742  2024\n",
       "27872  LAL  1610612747  2024\n",
       "27899  GSW  1610612744  2024\n",
       "\n",
       "[1627 rows x 3 columns]"
      ]
     },
     "execution_count": 2,
     "metadata": {},
     "output_type": "execute_result"
    }
   ],
   "source": [
    "df_sorted = df.sort_values(by=['team_id', 'year'])\n",
    "\n",
    "# Create a dictionary mapping team_id to the most recent team name\n",
    "most_recent_team_names = df_sorted.drop_duplicates('team_id', keep='last').set_index('team_id')['team'].to_dict()\n",
    "\n",
    "# Replace all team names with the most recent version for each team_id\n",
    "df['team'] = df['team_id'].map(most_recent_team_names)\n",
    "df"
   ]
  },
  {
   "cell_type": "code",
   "execution_count": 3,
   "id": "c30ffc3f-afe9-4115-adce-ed8baac82a11",
   "metadata": {},
   "outputs": [],
   "source": [
    "df.to_csv('team_index.csv',index=False)"
   ]
  },
  {
   "cell_type": "code",
   "execution_count": null,
   "id": "39331101-60c1-446f-906b-5f5c3ba045b9",
   "metadata": {},
   "outputs": [],
   "source": []
  }
 ],
 "metadata": {
  "kernelspec": {
   "display_name": "Python 3 (ipykernel)",
   "language": "python",
   "name": "python3"
  },
  "language_info": {
   "codemirror_mode": {
    "name": "ipython",
    "version": 3
   },
   "file_extension": ".py",
   "mimetype": "text/x-python",
   "name": "python",
   "nbconvert_exporter": "python",
   "pygments_lexer": "ipython3",
   "version": "3.10.12"
  }
 },
 "nbformat": 4,
 "nbformat_minor": 5
}
