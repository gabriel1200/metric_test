{
 "cells": [
  {
   "cell_type": "code",
   "execution_count": null,
   "id": "fb9395e8-b715-430c-8444-8985c49ed547",
   "metadata": {},
   "outputs": [
    {
     "name": "stdout",
     "output_type": "stream",
     "text": [
      "2000\n",
      "2001\n",
      "2002\n",
      "2003\n",
      "2004\n",
      "2005\n",
      "2006\n",
      "2007\n",
      "2008\n",
      "2009\n",
      "2010\n",
      "2011\n",
      "2012\n",
      "2013\n",
      "2014\n",
      "2015\n",
      "2016\n",
      "2017\n",
      "2018\n",
      "2019\n",
      "2020\n",
      "2021\n"
     ]
    }
   ],
   "source": [
    "import pandas as pd\n",
    "import time\n",
    "import sys\n",
    "def player_data(start_year,end_year,ps=False):\n",
    "    if ps == False:\n",
    "        season_type='leagues'\n",
    "    else:\n",
    "        season_type='playoffs'\n",
    "    frames=[]\n",
    "    for year in range(start_year,end_year+1):\n",
    "        url = 'https://www.basketball-reference.com/'+season_type+'/NBA_'+str(year)+'_per_poss.html'\n",
    "        df=pd.read_html(url)[0]\n",
    "        df=df[df.Player!='Player']\n",
    "        time.sleep(1)\n",
    "        url2='https://www.basketball-reference.com/'+season_type+'/NBA_'+str(year)+'_advanced.html'\n",
    "        df2=pd.read_html(url2)[0]\n",
    "        df2=df2[df2.Player!='Player']\n",
    "\n",
    "        \n",
    "\n",
    "        year_df=df.merge(df2)\n",
    "        unnamed=[col for col in year_df if 'unnamed' in col.lower()]\n",
    "        year_df.drop(columns=unnamed,inplace=True)\n",
    "        year_df['year']=year\n",
    "        frames.append(year_df)\n",
    "        print(year)\n",
    "\n",
    "        time.sleep(2)\n",
    "    return pd.concat(frames)\n",
    "start_year=2000\n",
    "end_year=2024\n",
    "#player_stats=player_data(start_year,end_year)\n",
    "\n",
    "#player_stats.to_csv('player_stats.csv',index=False)\n",
    "player_stats_ps=player_data(start_year,end_year,ps=True)\n",
    "player_stats_ps.to_csv('player_stats_ps.csv',index=False)\n"
   ]
  },
  {
   "cell_type": "code",
   "execution_count": null,
   "id": "aa948a7c-560d-425e-a76a-398fe0782a0a",
   "metadata": {},
   "outputs": [],
   "source": [
    "def league_average(league='leagues'):\n",
    "    time.sleep(1)\n",
    "    league_url='https://www.basketball-reference.com/'+league+'/NBA_stats_per_poss.html'\n",
    "    frames=pd.read_html(league_url)\n",
    "    league = frames[0]\n",
    "    league.columns=league.columns.droplevel()\n",
    "    league=league[league.Season!='Season']\n",
    "\n",
    "    league2 = frames[1]\n",
    "    league2.columns=league2.columns.droplevel()\n",
    "    league2=league2[league2.Season!='Season']\n",
    "    \n",
    "    \n",
    "    return league,league2\n",
    "league,league2 = league_average()\n",
    "league.to_csv('league_average.csv',index=False)\n",
    "\n",
    "league2.to_csv('league_average_ps.csv',index=False)\n",
    "\n"
   ]
  },
  {
   "cell_type": "code",
   "execution_count": null,
   "id": "ef21ee85-799b-4617-b040-bb790317bd7c",
   "metadata": {},
   "outputs": [],
   "source": [
    "league2"
   ]
  },
  {
   "cell_type": "code",
   "execution_count": null,
   "id": "bf79e733-f53e-4a2f-ba0b-15d8162f3434",
   "metadata": {},
   "outputs": [],
   "source": []
  },
  {
   "cell_type": "code",
   "execution_count": null,
   "id": "7dcb3e0d-3f89-4402-b29c-e4a9953df313",
   "metadata": {},
   "outputs": [],
   "source": []
  }
 ],
 "metadata": {
  "kernelspec": {
   "display_name": "Python 3 (ipykernel)",
   "language": "python",
   "name": "python3"
  },
  "language_info": {
   "codemirror_mode": {
    "name": "ipython",
    "version": 3
   },
   "file_extension": ".py",
   "mimetype": "text/x-python",
   "name": "python",
   "nbconvert_exporter": "python",
   "pygments_lexer": "ipython3",
   "version": "3.10.12"
  }
 },
 "nbformat": 4,
 "nbformat_minor": 5
}
